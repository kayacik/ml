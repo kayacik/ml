{
 "cells": [
  {
   "cell_type": "code",
   "execution_count": 1,
   "metadata": {
    "collapsed": false
   },
   "outputs": [],
   "source": [
    "import pandas as pd\n",
    "import numpy as np\n",
    "import matplotlib.pyplot as plt\n",
    "import datetime\n",
    "%matplotlib inline"
   ]
  },
  {
   "cell_type": "code",
   "execution_count": 2,
   "metadata": {
    "collapsed": false
   },
   "outputs": [],
   "source": [
    "def moving_average(data, window_len):\n",
    "    n = data.shape[0]\n",
    "    ma = np.zeros_like(data)\n",
    "    print n, window_len\n",
    "    for i in xrange(window_len, n):\n",
    "        ma[i] = sum(data[i-window_len:i])/float(window_len)\n",
    "    return ma"
   ]
  },
  {
   "cell_type": "code",
   "execution_count": 41,
   "metadata": {
    "collapsed": false
   },
   "outputs": [],
   "source": [
    "def univariate_anomalies(data, bins):\n",
    "    nrow = data.shape[0]\n",
    "    binned_data = {}\n",
    "    for i in xrange(0, nrow):\n",
    "        key = bins[i]\n",
    "        if key not in binned_data:\n",
    "            binned_data[key] = []\n",
    "        binned_data[key].append(data[i])\n",
    "    nbin = len(binned_data)\n",
    "    bin_value = []\n",
    "    perc01 = []\n",
    "    perc25 = []\n",
    "    perc50 = []\n",
    "    perc75 = []\n",
    "    perc99 = []\n",
    "    for key in binned_data.keys():\n",
    "        bin_value.append(key)\n",
    "        perc01.append(np.percentile(binned_data[key], 1))\n",
    "        perc25.append(np.percentile(binned_data[key], 25))\n",
    "        perc50.append(np.percentile(binned_data[key], 50))\n",
    "        perc75.append(np.percentile(binned_data[key], 75))\n",
    "        perc99.append(np.percentile(binned_data[key], 99))\n",
    "    model = np.array([bin_value, perc01, perc25, perc50, perc75, perc99])\n",
    "    return model.transpose()\n",
    "    "
   ]
  },
  {
   "cell_type": "code",
   "execution_count": 4,
   "metadata": {
    "collapsed": false
   },
   "outputs": [],
   "source": [
    "filename = '../data/ydata-labeled-time-series-anomalies-v1_0/A3Benchmark/A3Benchmark-TS13.csv'"
   ]
  },
  {
   "cell_type": "code",
   "execution_count": 5,
   "metadata": {
    "collapsed": false
   },
   "outputs": [],
   "source": [
    "data = pd.read_csv(filename)"
   ]
  },
  {
   "cell_type": "code",
   "execution_count": 22,
   "metadata": {
    "collapsed": false
   },
   "outputs": [],
   "source": [
    "(nrow, ncol) = data.shape\n",
    "data['time'] = pd.Series(map(datetime.datetime.fromtimestamp, data.timestamps))\n",
    "data['hour_of_day'] = pd.Series(np.zeros(nrow))\n",
    "for i in xrange(0, nrow):\n",
    "    data.loc[i,'hour_of_day'] = data.loc[i, 'time'].hour"
   ]
  },
  {
   "cell_type": "code",
   "execution_count": 23,
   "metadata": {
    "collapsed": false
   },
   "outputs": [
    {
     "data": {
      "text/html": [
       "<div>\n",
       "<table border=\"1\" class=\"dataframe\">\n",
       "  <thead>\n",
       "    <tr style=\"text-align: right;\">\n",
       "      <th></th>\n",
       "      <th>timestamps</th>\n",
       "      <th>value</th>\n",
       "      <th>anomaly</th>\n",
       "      <th>changepoint</th>\n",
       "      <th>trend</th>\n",
       "      <th>noise</th>\n",
       "      <th>seasonality1</th>\n",
       "      <th>seasonality2</th>\n",
       "      <th>seasonality3</th>\n",
       "      <th>time</th>\n",
       "      <th>hour_of_day</th>\n",
       "    </tr>\n",
       "  </thead>\n",
       "  <tbody>\n",
       "    <tr>\n",
       "      <th>0</th>\n",
       "      <td>1.416722e+09</td>\n",
       "      <td>25.464272</td>\n",
       "      <td>0</td>\n",
       "      <td>0</td>\n",
       "      <td>1</td>\n",
       "      <td>24.464272</td>\n",
       "      <td>0.000000</td>\n",
       "      <td>0.000000</td>\n",
       "      <td>0.000000</td>\n",
       "      <td>2014-11-22 22:00:00</td>\n",
       "      <td>22.0</td>\n",
       "    </tr>\n",
       "    <tr>\n",
       "      <th>1</th>\n",
       "      <td>1.416726e+09</td>\n",
       "      <td>619.248412</td>\n",
       "      <td>0</td>\n",
       "      <td>0</td>\n",
       "      <td>2</td>\n",
       "      <td>35.448031</td>\n",
       "      <td>394.650000</td>\n",
       "      <td>166.084181</td>\n",
       "      <td>21.066199</td>\n",
       "      <td>2014-11-22 23:00:00</td>\n",
       "      <td>23.0</td>\n",
       "    </tr>\n",
       "    <tr>\n",
       "      <th>2</th>\n",
       "      <td>1.416730e+09</td>\n",
       "      <td>1029.624273</td>\n",
       "      <td>0</td>\n",
       "      <td>0</td>\n",
       "      <td>3</td>\n",
       "      <td>-19.882513</td>\n",
       "      <td>683.553851</td>\n",
       "      <td>320.850000</td>\n",
       "      <td>42.102935</td>\n",
       "      <td>2014-11-23 00:00:00</td>\n",
       "      <td>0.0</td>\n",
       "    </tr>\n",
       "    <tr>\n",
       "      <th>3</th>\n",
       "      <td>1.416733e+09</td>\n",
       "      <td>1273.160984</td>\n",
       "      <td>0</td>\n",
       "      <td>0</td>\n",
       "      <td>4</td>\n",
       "      <td>-36.970224</td>\n",
       "      <td>789.300000</td>\n",
       "      <td>453.750421</td>\n",
       "      <td>63.080786</td>\n",
       "      <td>2014-11-23 01:00:00</td>\n",
       "      <td>1.0</td>\n",
       "    </tr>\n",
       "    <tr>\n",
       "      <th>4</th>\n",
       "      <td>1.416737e+09</td>\n",
       "      <td>1377.067944</td>\n",
       "      <td>0</td>\n",
       "      <td>0</td>\n",
       "      <td>5</td>\n",
       "      <td>48.815178</td>\n",
       "      <td>683.553851</td>\n",
       "      <td>555.728502</td>\n",
       "      <td>83.970413</td>\n",
       "      <td>2014-11-23 02:00:00</td>\n",
       "      <td>2.0</td>\n",
       "    </tr>\n",
       "  </tbody>\n",
       "</table>\n",
       "</div>"
      ],
      "text/plain": [
       "     timestamps        value  anomaly  changepoint  trend      noise  \\\n",
       "0  1.416722e+09    25.464272        0            0      1  24.464272   \n",
       "1  1.416726e+09   619.248412        0            0      2  35.448031   \n",
       "2  1.416730e+09  1029.624273        0            0      3 -19.882513   \n",
       "3  1.416733e+09  1273.160984        0            0      4 -36.970224   \n",
       "4  1.416737e+09  1377.067944        0            0      5  48.815178   \n",
       "\n",
       "   seasonality1  seasonality2  seasonality3                time  hour_of_day  \n",
       "0      0.000000      0.000000      0.000000 2014-11-22 22:00:00         22.0  \n",
       "1    394.650000    166.084181     21.066199 2014-11-22 23:00:00         23.0  \n",
       "2    683.553851    320.850000     42.102935 2014-11-23 00:00:00          0.0  \n",
       "3    789.300000    453.750421     63.080786 2014-11-23 01:00:00          1.0  \n",
       "4    683.553851    555.728502     83.970413 2014-11-23 02:00:00          2.0  "
      ]
     },
     "execution_count": 23,
     "metadata": {},
     "output_type": "execute_result"
    }
   ],
   "source": [
    "data.head()"
   ]
  },
  {
   "cell_type": "code",
   "execution_count": null,
   "metadata": {
    "collapsed": false
   },
   "outputs": [],
   "source": [
    "plt.plot(data.value[:],)\n",
    "plt.plot(data.anomaly[:]*100, 'ko')\n",
    "plt.plot(moving_average(data.value, 12), 'r-')"
   ]
  },
  {
   "cell_type": "code",
   "execution_count": 55,
   "metadata": {
    "collapsed": false
   },
   "outputs": [
    {
     "data": {
      "text/plain": [
       "[<matplotlib.lines.Line2D at 0x110241350>]"
      ]
     },
     "execution_count": 55,
     "metadata": {},
     "output_type": "execute_result"
    },
    {
     "data": {
      "image/png": "[encoded data removed]",
      "text/plain": [
       "<matplotlib.figure.Figure at 0x10f736c90>"
      ]
     },
     "metadata": {},
     "output_type": "display_data"
    }
   ],
   "source": [
    "binned_data = univariate_anomalies(data.value, data.hour_of_day)\n",
    "binned_data_df = pd.DataFrame(binned_data, columns=['hour', 'perc01', 'perc25','perc50','perc75','perc99'])\n",
    "plt.plot(binned_data_df.hour, binned_data_df.perc50, 'b-')\n",
    "plt.plot(binned_data_df.hour, binned_data_df.perc99, 'r--')\n",
    "plt.plot(binned_data_df.hour, binned_data_df.perc01, 'r--')\n",
    "plt.plot(data.hour_of_day, data.value, 'k.', )\n"
   ]
  },
  {
   "cell_type": "code",
   "execution_count": 26,
   "metadata": {
    "collapsed": false
   },
   "outputs": [
    {
     "data": {
      "text/plain": [
       "22.0"
      ]
     },
     "execution_count": 26,
     "metadata": {},
     "output_type": "execute_result"
    }
   ],
   "source": [
    "data.hour_of_day[0]"
   ]
  },
  {
   "cell_type": "code",
   "execution_count": null,
   "metadata": {
    "collapsed": true
   },
   "outputs": [],
   "source": []
  }
 ],
 "metadata": {
  "anaconda-cloud": {},
  "kernelspec": {
   "display_name": "Python [default]",
   "language": "python",
   "name": "python2"
  },
  "language_info": {
   "codemirror_mode": {
    "name": "ipython",
    "version": 2
   },
   "file_extension": ".py",
   "mimetype": "text/x-python",
   "name": "python",
   "nbconvert_exporter": "python",
   "pygments_lexer": "ipython2",
   "version": "2.7.12"
  }
 },
 "nbformat": 4,
 "nbformat_minor": 1
}
