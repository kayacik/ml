{
 "cells": [
  {
   "cell_type": "code",
   "execution_count": 19,
   "metadata": {
    "ExecuteTime": {
     "end_time": "2020-05-26T22:43:47.306444Z",
     "start_time": "2020-05-26T22:43:47.288406Z"
    }
   },
   "outputs": [],
   "source": [
    "from scipy.optimize import fmin_bfgs\n",
    "import matplotlib.pyplot as plt\n",
    "import numpy as np\n",
    "import math\n",
    "%matplotlib inline"
   ]
  },
  {
   "cell_type": "code",
   "execution_count": 2,
   "metadata": {
    "ExecuteTime": {
     "end_time": "2020-05-26T22:35:31.128235Z",
     "start_time": "2020-05-26T22:35:31.122202Z"
    }
   },
   "outputs": [],
   "source": [
    "def x2(x):\n",
    "    return x**2\n",
    "\n",
    "X = np.linspace(-100, 100, 1000)\n",
    "Y = np.array([x2(x) for x in X])"
   ]
  },
  {
   "cell_type": "code",
   "execution_count": 3,
   "metadata": {
    "ExecuteTime": {
     "end_time": "2020-05-26T22:35:32.023954Z",
     "start_time": "2020-05-26T22:35:31.779111Z"
    }
   },
   "outputs": [
    {
     "data": {
      "text/plain": [
       "[<matplotlib.lines.Line2D at 0x7f34cf77e240>]"
      ]
     },
     "execution_count": 3,
     "metadata": {},
     "output_type": "execute_result"
    },
    {
     "data": {
      "image/png": "[encoded data removed]",
      "text/plain": [
       "<Figure size 432x288 with 1 Axes>"
      ]
     },
     "metadata": {
      "needs_background": "light"
     },
     "output_type": "display_data"
    }
   ],
   "source": [
    "plt.plot(X,Y)"
   ]
  },
  {
   "cell_type": "markdown",
   "metadata": {},
   "source": [
    "Experimenting with fmin_bfgs which finds the local minima of a function given an initial guess. Here is the function documentation:"
   ]
  },
  {
   "cell_type": "code",
   "execution_count": 67,
   "metadata": {
    "ExecuteTime": {
     "end_time": "2020-05-26T22:55:17.735367Z",
     "start_time": "2020-05-26T22:55:17.562564Z"
    }
   },
   "outputs": [],
   "source": [
    "fmin_bfgs??"
   ]
  },
  {
   "cell_type": "code",
   "execution_count": 9,
   "metadata": {
    "ExecuteTime": {
     "end_time": "2020-05-26T22:38:48.158402Z",
     "start_time": "2020-05-26T22:38:48.150713Z"
    }
   },
   "outputs": [
    {
     "name": "stdout",
     "output_type": "stream",
     "text": [
      "Optimization terminated successfully.\n",
      "         Current function value: 0.000000\n",
      "         Iterations: 4\n",
      "         Function evaluations: 21\n",
      "         Gradient evaluations: 7\n"
     ]
    }
   ],
   "source": [
    "res = fmin_bfgs(x2, 100)"
   ]
  },
  {
   "cell_type": "markdown",
   "metadata": {},
   "source": [
    "Returns xopt    Parameters which minimize f, i.e. f(xopt) == fopt.\n"
   ]
  },
  {
   "cell_type": "code",
   "execution_count": 10,
   "metadata": {
    "ExecuteTime": {
     "end_time": "2020-05-26T22:38:49.511498Z",
     "start_time": "2020-05-26T22:38:49.500846Z"
    }
   },
   "outputs": [
    {
     "data": {
      "text/plain": [
       "array([-7.45122473e-09])"
      ]
     },
     "execution_count": 10,
     "metadata": {},
     "output_type": "execute_result"
    }
   ],
   "source": [
    "res"
   ]
  },
  {
   "cell_type": "code",
   "execution_count": 11,
   "metadata": {
    "ExecuteTime": {
     "end_time": "2020-05-26T22:38:49.806295Z",
     "start_time": "2020-05-26T22:38:49.794493Z"
    }
   },
   "outputs": [
    {
     "data": {
      "text/plain": [
       "array([5.552075e-17])"
      ]
     },
     "execution_count": 11,
     "metadata": {},
     "output_type": "execute_result"
    }
   ],
   "source": [
    "x2(res)"
   ]
  },
  {
   "cell_type": "markdown",
   "metadata": {},
   "source": [
    "Close enough. What if our initial_guess is pretty bad?"
   ]
  },
  {
   "cell_type": "code",
   "execution_count": 12,
   "metadata": {
    "ExecuteTime": {
     "end_time": "2020-05-26T22:39:27.012294Z",
     "start_time": "2020-05-26T22:39:26.998316Z"
    }
   },
   "outputs": [
    {
     "name": "stdout",
     "output_type": "stream",
     "text": [
      "Optimization terminated successfully.\n",
      "         Current function value: 0.000000\n",
      "         Iterations: 4\n",
      "         Function evaluations: 30\n",
      "         Gradient evaluations: 10\n"
     ]
    }
   ],
   "source": [
    "res_bad_guess = fmin_bfgs(x2, 10000) "
   ]
  },
  {
   "cell_type": "code",
   "execution_count": 13,
   "metadata": {
    "ExecuteTime": {
     "end_time": "2020-05-26T22:39:40.982959Z",
     "start_time": "2020-05-26T22:39:40.966041Z"
    }
   },
   "outputs": [
    {
     "data": {
      "text/plain": [
       "array([5.09906683e-07])"
      ]
     },
     "execution_count": 13,
     "metadata": {},
     "output_type": "execute_result"
    }
   ],
   "source": [
    "res_bad_guess"
   ]
  },
  {
   "cell_type": "markdown",
   "metadata": {},
   "source": [
    "Bad guess did not seem to make a big difference, at least with this trivial example. Let's put together another one with local minima."
   ]
  },
  {
   "cell_type": "code",
   "execution_count": 52,
   "metadata": {
    "ExecuteTime": {
     "end_time": "2020-05-26T22:50:05.466250Z",
     "start_time": "2020-05-26T22:50:05.453446Z"
    }
   },
   "outputs": [],
   "source": [
    "def fun1(x):\n",
    "    return 0.5*x*math.sin(x) + 0.2*x\n",
    "X_f1 = np.linspace(-3*math.pi, 4*math.pi)\n",
    "Y_f1 = np.array([fun1(x) for x in X_f1])"
   ]
  },
  {
   "cell_type": "code",
   "execution_count": 53,
   "metadata": {
    "ExecuteTime": {
     "end_time": "2020-05-26T22:50:06.125682Z",
     "start_time": "2020-05-26T22:50:05.890143Z"
    }
   },
   "outputs": [
    {
     "data": {
      "text/plain": [
       "[<matplotlib.lines.Line2D at 0x7f34cd64d400>]"
      ]
     },
     "execution_count": 53,
     "metadata": {},
     "output_type": "execute_result"
    },
    {
     "data": {
      "image/png": "[encoded data removed]",
      "text/plain": [
       "<Figure size 432x288 with 1 Axes>"
      ]
     },
     "metadata": {
      "needs_background": "light"
     },
     "output_type": "display_data"
    }
   ],
   "source": [
    "plt.plot(X_f1,Y_f1)"
   ]
  },
  {
   "cell_type": "code",
   "execution_count": 55,
   "metadata": {
    "ExecuteTime": {
     "end_time": "2020-05-26T22:51:01.918199Z",
     "start_time": "2020-05-26T22:51:01.903278Z"
    }
   },
   "outputs": [
    {
     "name": "stdout",
     "output_type": "stream",
     "text": [
      "Optimization terminated successfully.\n",
      "         Current function value: -0.020137\n",
      "         Iterations: 3\n",
      "         Function evaluations: 12\n",
      "         Gradient evaluations: 4\n"
     ]
    }
   ],
   "source": [
    "x_guess1 = fmin_bfgs(fun1, 0)\n",
    "y_guess1 = fun1(x_guess1)"
   ]
  },
  {
   "cell_type": "code",
   "execution_count": 61,
   "metadata": {
    "ExecuteTime": {
     "end_time": "2020-05-26T22:52:42.142437Z",
     "start_time": "2020-05-26T22:52:42.134225Z"
    }
   },
   "outputs": [
    {
     "name": "stdout",
     "output_type": "stream",
     "text": [
      "Optimization terminated successfully.\n",
      "         Current function value: -1.432351\n",
      "         Iterations: 3\n",
      "         Function evaluations: 33\n",
      "         Gradient evaluations: 11\n"
     ]
    }
   ],
   "source": [
    "x_guess2 = fmin_bfgs(fun1, 8)\n",
    "y_guess2 = fun1(x_guess2)"
   ]
  },
  {
   "cell_type": "code",
   "execution_count": 63,
   "metadata": {
    "ExecuteTime": {
     "end_time": "2020-05-26T22:53:11.163371Z",
     "start_time": "2020-05-26T22:53:11.144164Z"
    }
   },
   "outputs": [
    {
     "name": "stdout",
     "output_type": "stream",
     "text": [
      "Optimization terminated successfully.\n",
      "         Current function value: -3.306819\n",
      "         Iterations: 5\n",
      "         Function evaluations: 27\n",
      "         Gradient evaluations: 9\n"
     ]
    }
   ],
   "source": [
    "x_guess3 = fmin_bfgs(fun1, 9)\n",
    "y_guess3 = fun1(x_guess3)"
   ]
  },
  {
   "cell_type": "code",
   "execution_count": 66,
   "metadata": {
    "ExecuteTime": {
     "end_time": "2020-05-26T22:53:54.452000Z",
     "start_time": "2020-05-26T22:53:54.190713Z"
    }
   },
   "outputs": [
    {
     "data": {
      "image/png": "[encoded data removed]",
      "text/plain": [
       "<Figure size 432x288 with 1 Axes>"
      ]
     },
     "metadata": {
      "needs_background": "light"
     },
     "output_type": "display_data"
    }
   ],
   "source": [
    "plt.plot(X_f1,Y_f1)\n",
    "plt.scatter(x_guess1, y_guess1, c='red')\n",
    "plt.scatter(x_guess2, y_guess2, c='orange')\n",
    "plt.scatter(x_guess3, y_guess3, c='green')\n",
    "plt.xlabel('x')\n",
    "plt.ylabel('f(x)')\n",
    "plt.show()"
   ]
  },
  {
   "cell_type": "code",
   "execution_count": null,
   "metadata": {},
   "outputs": [],
   "source": []
  }
 ],
 "metadata": {
  "kernelspec": {
   "display_name": "Python 3",
   "language": "python",
   "name": "python3"
  },
  "language_info": {
   "codemirror_mode": {
    "name": "ipython",
    "version": 3
   },
   "file_extension": ".py",
   "mimetype": "text/x-python",
   "name": "python",
   "nbconvert_exporter": "python",
   "pygments_lexer": "ipython3",
   "version": "3.6.10"
  },
  "toc": {
   "base_numbering": 1,
   "nav_menu": {},
   "number_sections": true,
   "sideBar": true,
   "skip_h1_title": false,
   "title_cell": "Table of Contents",
   "title_sidebar": "Contents",
   "toc_cell": false,
   "toc_position": {},
   "toc_section_display": true,
   "toc_window_display": false
  }
 },
 "nbformat": 4,
 "nbformat_minor": 1
}
